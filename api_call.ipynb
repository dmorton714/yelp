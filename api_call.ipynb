{
 "cells": [
  {
   "cell_type": "code",
   "execution_count": 8,
   "metadata": {},
   "outputs": [],
   "source": [
    "import requests\n",
    "import pandas as pd\n",
    "import json\n",
    "import time"
   ]
  },
  {
   "cell_type": "code",
   "execution_count": 9,
   "metadata": {},
   "outputs": [
    {
     "name": "stdout",
     "output_type": "stream",
     "text": [
      "Error: 400 - {\"error\": {\"code\": \"VALIDATION_ERROR\", \"description\": \"Too many results requested, limit+offset must be <= 1000.\"}}\n",
      "                                  Name  Rating  Review Count Price  \\\n",
      "0                          Hammerheads     4.5          1323    $$   \n",
      "1                            The Eagle     4.5          1507    $$   \n",
      "2                           Doc Crow's     4.0          2017    $$   \n",
      "3                     North of Bourbon     4.5           132    $$   \n",
      "4    Oliver's Chop House & Bourbon Bar     4.5             3  None   \n",
      "..                                 ...     ...           ...   ...   \n",
      "995          Slab Daddy's BBQ Catering     5.0             2  None   \n",
      "996               Little Caesars Pizza     1.5             6     $   \n",
      "997                         McDonald's     1.5            10     $   \n",
      "998            Famous Dave's Bar-B-Que     3.5           112    $$   \n",
      "999              Einstein Bros. Bagels     1.5             5     $   \n",
      "\n",
      "                                               Address  \n",
      "0                    921 Swan St, Louisville, KY 40204  \n",
      "1              1314 Bardstown Rd, Louisville, KY 40204  \n",
      "2                  127 W Main St, Louisville, KY 40202  \n",
      "3                   935 Goss Ave, Louisville, KY 40217  \n",
      "4    4520 Poplar Level Rd, Derby City Gaming Hotel,...  \n",
      "..                                                 ...  \n",
      "995           7403 Fegenbush Ln, Spring Mill, KY 40228  \n",
      "996                3181 S 2nd St, Louisville, KY 40208  \n",
      "997                   520 N 22nd, Louisville, KY 40203  \n",
      "998             8605 Citadel Way, Louisville, KY 40220  \n",
      "999              2100 S Floyd St, Louisville, KY 40208  \n",
      "\n",
      "[1000 rows x 5 columns]\n"
     ]
    }
   ],
   "source": [
    "api_key = \"YkbthBL7RWYK7M5OL-oLBstZGuZ2ByzGi0BxvA_VIGkC3Ui7JbS44CsCD_Olm1p6PFwUzuo6RfDFPdZ3phgA-xWqPDx4sCHZTeHgAlLxZLX60vgjMMlqS5IBJDCiZHYx'remove_me'\"\n",
    "endpoint = \"businesses/search\"\n",
    "url = f\"https://api.yelp.com/v3/{endpoint}\"\n",
    "headers = {\n",
    "    \"Authorization\": f\"Bearer {api_key}\"\n",
    "}\n",
    "params = {\n",
    "    \"term\": \"restaurants\",\n",
    "    \"location\": \"Louisville, KY\",\n",
    "    \"limit\": 50  # Set the desired limit per request (maximum is 50)\n",
    "}\n",
    "\n",
    "restaurant_data = []  # List to store the extracted data\n",
    "\n",
    "offset = 0  # Initial offset value\n",
    "results_per_request = params[\"limit\"]  # Results per request (50)\n",
    "total_results = float(\"inf\")  # Initialize total_results to an arbitrary high value\n",
    "\n",
    "while offset < total_results:\n",
    "    params[\"offset\"] = offset  # Set the offset parameter\n",
    "    \n",
    "    response = requests.get(url, headers=headers, params=params)\n",
    "    \n",
    "    if response.status_code != 200:\n",
    "        print(f\"Error: {response.status_code} - {response.text}\")\n",
    "        break\n",
    "    \n",
    "    data = response.json()\n",
    "\n",
    "    if offset == 0:\n",
    "        total_results = data[\"total\"]\n",
    "    \n",
    "    businesses = data[\"businesses\"]\n",
    "    \n",
    "    for business in businesses:\n",
    "        name = business.get(\"name\")\n",
    "        rating = business.get(\"rating\")\n",
    "        review_count = business.get(\"review_count\")\n",
    "        price = business.get(\"price\")\n",
    "        address = \", \".join(business.get(\"location\", {}).get(\"display_address\", []))\n",
    "        restaurant_data.append({\n",
    "            \"Name\": name,\n",
    "            \"Rating\": rating,\n",
    "            \"Review Count\": review_count,\n",
    "            \"Price\": price,\n",
    "            \"Address\": address\n",
    "        })\n",
    "    offset += results_per_request  \n",
    "    time.sleep(2)  \n",
    "\n",
    "# Create a DataFrame from the extracted data\n",
    "df = pd.DataFrame(restaurant_data)\n",
    "\n",
    "# Print the DataFrame\n",
    "df.head()"
   ]
  },
  {
   "cell_type": "code",
   "execution_count": 10,
   "metadata": {},
   "outputs": [],
   "source": [
    "df.to_csv('yelp.csv')"
   ]
  }
 ],
 "metadata": {
  "kernelspec": {
   "display_name": "Python 3",
   "language": "python",
   "name": "python3"
  },
  "language_info": {
   "codemirror_mode": {
    "name": "ipython",
    "version": 3
   },
   "file_extension": ".py",
   "mimetype": "text/x-python",
   "name": "python",
   "nbconvert_exporter": "python",
   "pygments_lexer": "ipython3",
   "version": "3.9.12"
  },
  "orig_nbformat": 4
 },
 "nbformat": 4,
 "nbformat_minor": 2
}
